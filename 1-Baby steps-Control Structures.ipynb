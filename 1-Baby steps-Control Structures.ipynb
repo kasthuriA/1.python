{
 "cells": [
  {
   "cell_type": "code",
   "execution_count": 1,
   "id": "2209c40b",
   "metadata": {},
   "outputs": [
    {
     "name": "stdout",
     "output_type": "stream",
     "text": [
      "Welcome to Assignment-1\n"
     ]
    }
   ],
   "source": [
    "print(\"Welcome to Assignment-1\")"
   ]
  },
  {
   "cell_type": "code",
   "execution_count": 2,
   "id": "3e864205",
   "metadata": {},
   "outputs": [
    {
     "name": "stdout",
     "output_type": "stream",
     "text": [
      "Num1= 20\n",
      "Num2= 20\n",
      "Add= 40\n"
     ]
    }
   ],
   "source": [
    "Num1=20\n",
    "print(\"Num1=\",Num1)\n",
    "Num2=20\n",
    "print(\"Num2=\",Num2)\n",
    "add=Num1+Num2\n",
    "print(\"Add=\",add)"
   ]
  },
  {
   "cell_type": "code",
   "execution_count": 3,
   "id": "ce1a9265",
   "metadata": {},
   "outputs": [
    {
     "name": "stdout",
     "output_type": "stream",
     "text": [
      "Enter the BMI Index:33\n",
      "Very overweight\n"
     ]
    }
   ],
   "source": [
    "BMI=float(input(\"Enter the BMI Index:\"))\n",
    "if(BMI<18.5):\n",
    "    print(\"Under weight\")\n",
    "elif(BMI<24.9):\n",
    "    print(\"You are healthy\")\n",
    "elif(BMI<29.9):\n",
    "    print(\"You are Overweight\")\n",
    "else:\n",
    "    print(\"Very overweight\")"
   ]
  },
  {
   "cell_type": "code",
   "execution_count": null,
   "id": "f27178ec",
   "metadata": {},
   "outputs": [],
   "source": []
  }
 ],
 "metadata": {
  "kernelspec": {
   "display_name": "Python 3 (ipykernel)",
   "language": "python",
   "name": "python3"
  },
  "language_info": {
   "codemirror_mode": {
    "name": "ipython",
    "version": 3
   },
   "file_extension": ".py",
   "mimetype": "text/x-python",
   "name": "python",
   "nbconvert_exporter": "python",
   "pygments_lexer": "ipython3",
   "version": "3.9.13"
  }
 },
 "nbformat": 4,
 "nbformat_minor": 5
}
