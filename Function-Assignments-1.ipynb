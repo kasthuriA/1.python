{
 "cells": [
  {
   "cell_type": "code",
   "execution_count": 8,
   "id": "70e3d2e1",
   "metadata": {},
   "outputs": [],
   "source": [
    "#Create function\n",
    "def subfields():\n",
    "    sub_fields = [\"Machine Learning\", \"Neural Networks\", \"Vision\", \"Robotics\", \"Speech Processing\", \"Natural Language Processing\"]\n",
    "    print(\"Sub-fields in AI are:\")\n",
    "    print( sub_fields[0])\n",
    "    for sub_field in sub_fields[1:]:\n",
    "        print(sub_field)\n"
   ]
  },
  {
   "cell_type": "code",
   "execution_count": 9,
   "id": "7a461769",
   "metadata": {},
   "outputs": [
    {
     "name": "stdout",
     "output_type": "stream",
     "text": [
      "Sub-fields in AI are:\n",
      "Machine Learning\n",
      "Neural Networks\n",
      "Vision\n",
      "Robotics\n",
      "Speech Processing\n",
      "Natural Language Processing\n"
     ]
    }
   ],
   "source": [
    "subfields()"
   ]
  },
  {
   "cell_type": "code",
   "execution_count": 8,
   "id": "d20adc35",
   "metadata": {},
   "outputs": [],
   "source": [
    "#Create function\n",
    "def oddEven():\n",
    "    num=int(input(\"Enter the number:\"))\n",
    "    if((num%2)==1):\n",
    "         print(num,\"is an odd number\")\n",
    "        \n",
    "    else:\n",
    "         print(num,\"is an Even number\")\n",
    "         \n",
    "    "
   ]
  },
  {
   "cell_type": "code",
   "execution_count": 9,
   "id": "b909656b",
   "metadata": {},
   "outputs": [
    {
     "name": "stdout",
     "output_type": "stream",
     "text": [
      "Enter the number:4\n",
      "4 is an Even number\n"
     ]
    }
   ],
   "source": [
    "oddeven=oddEven()"
   ]
  },
  {
   "cell_type": "code",
   "execution_count": null,
   "id": "088e819b",
   "metadata": {},
   "outputs": [],
   "source": [
    "if(message=even)\n",
    "   print(\"\")"
   ]
  },
  {
   "cell_type": "code",
   "execution_count": 31,
   "id": "2716a50e",
   "metadata": {},
   "outputs": [],
   "source": [
    "#Create function\n",
    "def Eligible():\n",
    "    gender=(input(\"Your gender:\"))\n",
    "    age=int(input(\"age:\")) \n",
    "    if age > 18 and gender.lower() == \"male\":\n",
    "         print(\"You are eligible.\")\n",
    "    else:\n",
    "         print(\"NOT ELIGIBLE.\")\n"
   ]
  },
  {
   "cell_type": "code",
   "execution_count": 32,
   "id": "686ac290",
   "metadata": {},
   "outputs": [
    {
     "name": "stdout",
     "output_type": "stream",
     "text": [
      "Your gender:male\n",
      "age:18\n",
      "NOT ELIGIBLE.\n"
     ]
    }
   ],
   "source": [
    "eligible=Eligible()"
   ]
  },
  {
   "cell_type": "code",
   "execution_count": 10,
   "id": "8751a194",
   "metadata": {},
   "outputs": [],
   "source": [
    "#Create Function\n",
    "# Ask for user input for each subject's score\n",
    "\n",
    "def percentage():\n",
    "        subject1 = float(input(\"Subject 1= \"))\n",
    "        subject2 = float(input(\"Subject 2= \"))\n",
    "        subject3 = float(input(\"Subject 3= \"))\n",
    "        subject4 = float(input(\"Subject 4= \"))\n",
    "        subject5 = float(input(\"Subject 5= \"))\n",
    "\n",
    "# Calculate the total score and percentage\n",
    "        total_score = subject1 + subject2 + subject3 + subject4 + subject5\n",
    "        percentage = (total_score / 500) * 100\n",
    "        print (\"Total:\",total_score)\n",
    "        # Print the percentage\n",
    "        print(\"Percentage: {:.2f}%\".format(percentage))\n"
   ]
  },
  {
   "cell_type": "code",
   "execution_count": 11,
   "id": "74691259",
   "metadata": {},
   "outputs": [
    {
     "name": "stdout",
     "output_type": "stream",
     "text": [
      "Subject 1= 23\n",
      "Subject 2= 45\n",
      "Subject 3= 34\n",
      "Subject 4= 23\n",
      "Subject 5= 23\n",
      "Total: 148.0\n",
      "Percentage: 29.60%\n"
     ]
    }
   ],
   "source": [
    "percentage=percentage()"
   ]
  },
  {
   "cell_type": "code",
   "execution_count": 26,
   "id": "25d329f3",
   "metadata": {},
   "outputs": [],
   "source": [
    "#Create Function\n",
    "def triangle():\n",
    "        Height = int(input(\"Height= \"))\n",
    "        Breadth = int(input(\"Breadth= \"))\n",
    "        areaFormula=(Height*Breadth)/2\n",
    "        print(\"AreaFormula=(Height*Breadth)/2\")\n",
    "        print(\"Area of Triangle : \",areaFormula)\n",
    "        Height1 = int(input(\"Height= \"))\n",
    "        Height2 = int(input(\"Height2= \"))\n",
    "        Breadth = int(input(\"Breadth= \"))\n",
    "        PerimeterFormula=Height1+Height2+Breadth\n",
    "        print(\"PerimeterFormula=Height1+Height2+Breadth\")\n",
    "        print(\"Perimeter of Triangle : \",PerimeterFormula)"
   ]
  },
  {
   "cell_type": "code",
   "execution_count": 27,
   "id": "83066d0b",
   "metadata": {},
   "outputs": [
    {
     "name": "stdout",
     "output_type": "stream",
     "text": [
      "Height= 3\n",
      "Breadth= 4\n",
      "AreaFormula=(Height*Breadth)/2\n",
      "Area of Triangle :  6.0\n",
      "Height= 3\n",
      "Height2= 4\n",
      "Breadth= 45\n",
      "PerimeterFormula=Height1+Height2+Breadth\n",
      "Perimeter of Triangle :  52\n"
     ]
    }
   ],
   "source": [
    "triangle()"
   ]
  }
 ],
 "metadata": {
  "kernelspec": {
   "display_name": "Python 3 (ipykernel)",
   "language": "python",
   "name": "python3"
  },
  "language_info": {
   "codemirror_mode": {
    "name": "ipython",
    "version": 3
   },
   "file_extension": ".py",
   "mimetype": "text/x-python",
   "name": "python",
   "nbconvert_exporter": "python",
   "pygments_lexer": "ipython3",
   "version": "3.9.13"
  }
 },
 "nbformat": 4,
 "nbformat_minor": 5
}
