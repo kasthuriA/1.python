{
 "cells": [
  {
   "cell_type": "code",
   "execution_count": null,
   "id": "70e3d2e1",
   "metadata": {},
   "outputs": [],
   "source": [
    "#Create function\n",
    "class SubfieldsInAI():\n",
    "        def subfields():\n",
    "            sub_fields = [\"Machine Learning\", \"Neural Networks\", \"Vision\", \"Robotics\", \"Speech Processing\", \"Natural Language Processing\"]\n",
    "            print(\"Sub-fields in AI are:\")\n",
    "            print( sub_fields[0])\n",
    "            for sub_field in sub_fields[1:]:\n",
    "                print(sub_field)\n"
   ]
  },
  {
   "cell_type": "code",
   "execution_count": null,
   "id": "7a461769",
   "metadata": {},
   "outputs": [],
   "source": [
    "SubfieldsInAI.subfields()"
   ]
  },
  {
   "cell_type": "code",
   "execution_count": 10,
   "id": "d20adc35",
   "metadata": {},
   "outputs": [],
   "source": [
    "#Create function\n",
    "class oddEven():\n",
    "            def oddEven():\n",
    "                num=int(input(\"Enter the number:\"))\n",
    "                if((num%2)==1):\n",
    "                     print(num,\"is an odd number\")\n",
    "\n",
    "                else:\n",
    "                     print(num,\"is an Even number\")\n",
    "\n",
    "    "
   ]
  },
  {
   "cell_type": "code",
   "execution_count": 12,
   "id": "b909656b",
   "metadata": {},
   "outputs": [
    {
     "name": "stdout",
     "output_type": "stream",
     "text": [
      "Enter the number:52452\n",
      "52452 is an Even number\n"
     ]
    }
   ],
   "source": [
    "oddEven.oddEven()"
   ]
  },
  {
   "cell_type": "code",
   "execution_count": null,
   "id": "459f57a4",
   "metadata": {},
   "outputs": [],
   "source": [
    "def Eligible():\n",
    "    gender = input(\"Your gender: \")\n",
    "    age = int(input(\"Age: \"))\n",
    "    \n",
    "    if gender == \"male\" and age >= 21:\n",
    "        print(\"Eligible\")\n",
    "    elif gender == \"female\" and age >= 18:\n",
    "        print(\"Eligible\")\n",
    "    else:\n",
    "        print(\"Not eligible\")\n"
   ]
  },
  {
   "cell_type": "code",
   "execution_count": null,
   "id": "21603451",
   "metadata": {},
   "outputs": [],
   "source": [
    "Eligible=Eligible()"
   ]
  },
  {
   "cell_type": "code",
   "execution_count": null,
   "id": "8751a194",
   "metadata": {},
   "outputs": [],
   "source": [
    "#Create Function\n",
    "#calculate the percentage of your 10th mark\n",
    "# Ask for user input for each subject's score\n",
    "class FindPercent():\n",
    "        def percentage():\n",
    "                subject1 = float(input(\"Subject 1= \"))\n",
    "                subject2 = float(input(\"Subject 2= \"))\n",
    "                subject3 = float(input(\"Subject 3= \"))\n",
    "                subject4 = float(input(\"Subject 4= \"))\n",
    "                subject5 = float(input(\"Subject 5= \"))\n",
    "\n",
    "        # Calculate the total score and percentage\n",
    "                total_score = subject1 + subject2 + subject3 + subject4 + subject5\n",
    "                percentage = (total_score / 500) * 100\n",
    "                print (\"Total:\",total_score)\n",
    "                # Print the percentage\n",
    "                print(\"Percentage: {:.2f}%\".format(percentage))\n"
   ]
  },
  {
   "cell_type": "code",
   "execution_count": null,
   "id": "74691259",
   "metadata": {},
   "outputs": [],
   "source": [
    "FindPercent.percentage()"
   ]
  },
  {
   "cell_type": "code",
   "execution_count": 16,
   "id": "25d329f3",
   "metadata": {},
   "outputs": [],
   "source": [
    "#print area and perimeter of triangle using class and functions\n",
    "#Create Function\n",
    "class triangle():\n",
    "        def triangle():\n",
    "                Height = int(input(\"Height= \"))\n",
    "                Breadth = int(input(\"Breadth= \"))\n",
    "                areaFormula=(Height*Breadth)/2\n",
    "                print(\"AreaFormula=(Height*Breadth)/2\")\n",
    "                print(\"Area of Triangle : \",areaFormula)\n",
    "                Height1 = int(input(\"Height= \"))\n",
    "                Height2 = int(input(\"Height2= \"))\n",
    "                Breadth = int(input(\"Breadth= \"))\n",
    "                PerimeterFormula=Height1+Height2+Breadth\n",
    "                print(\"PerimeterFormula=Height1+Height2+Breadth\")\n",
    "                print(\"Perimeter of Triangle : \",PerimeterFormula)"
   ]
  },
  {
   "cell_type": "code",
   "execution_count": 17,
   "id": "83066d0b",
   "metadata": {},
   "outputs": [
    {
     "name": "stdout",
     "output_type": "stream",
     "text": [
      "Height= 32\n",
      "Breadth= 34\n",
      "AreaFormula=(Height*Breadth)/2\n",
      "Area of Triangle :  544.0\n",
      "Height= 2\n",
      "Height2= 4\n",
      "Breadth= 4\n",
      "PerimeterFormula=Height1+Height2+Breadth\n",
      "Perimeter of Triangle :  10\n"
     ]
    }
   ],
   "source": [
    "triangle.triangle()"
   ]
  },
  {
   "cell_type": "code",
   "execution_count": null,
   "id": "bc7ff709",
   "metadata": {},
   "outputs": [],
   "source": []
  }
 ],
 "metadata": {
  "kernelspec": {
   "display_name": "Python 3 (ipykernel)",
   "language": "python",
   "name": "python3"
  },
  "language_info": {
   "codemirror_mode": {
    "name": "ipython",
    "version": 3
   },
   "file_extension": ".py",
   "mimetype": "text/x-python",
   "name": "python",
   "nbconvert_exporter": "python",
   "pygments_lexer": "ipython3",
   "version": "3.9.13"
  }
 },
 "nbformat": 4,
 "nbformat_minor": 5
}
