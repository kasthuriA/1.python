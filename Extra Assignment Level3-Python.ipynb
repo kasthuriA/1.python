{
 "cells": [
  {
   "cell_type": "code",
   "execution_count": 2,
   "id": "57bc4409",
   "metadata": {},
   "outputs": [
    {
     "name": "stdout",
     "output_type": "stream",
     "text": [
      "value: 10\n",
      "Value correct\n"
     ]
    }
   ],
   "source": [
    "# using input() to take user input\n",
    "num = input('value: ')\n",
    "\n",
    "print('Value correct')"
   ]
  },
  {
   "cell_type": "code",
   "execution_count": 1,
   "id": "ca97184c",
   "metadata": {},
   "outputs": [
    {
     "name": "stdout",
     "output_type": "stream",
     "text": [
      "Please enter your password: HOPE@123\n",
      "Your password is correct.\n"
     ]
    }
   ],
   "source": [
    "#Check the password using if and else\n",
    "password = input(\"Please enter your password: \")\n",
    "\n",
    "has_number = False\n",
    "has_symbol = False\n",
    "\n",
    "for char in password:\n",
    "    if char.isdigit():\n",
    "        has_number = True\n",
    "    elif not char.isalnum():\n",
    "        has_symbol = True\n",
    "\n",
    "if has_number and has_symbol:\n",
    "    print(\"Your password is correct.\")\n",
    "else:\n",
    "    print(\"Your password must contain at least one number and one symbol.\")"
   ]
  },
  {
   "cell_type": "code",
   "execution_count": 22,
   "id": "9132cdc0",
   "metadata": {},
   "outputs": [
    {
     "name": "stdout",
     "output_type": "stream",
     "text": [
      "age: 20 \n",
      " Adult\n"
     ]
    }
   ],
   "source": [
    "age = 20\n",
    "print(\"age:\", age, \"\\n Adult\")"
   ]
  },
  {
   "cell_type": "code",
   "execution_count": 42,
   "id": "574185bd",
   "metadata": {},
   "outputs": [
    {
     "name": "stdout",
     "output_type": "stream",
     "text": [
      "Enter any number : 1\n",
      "Number is Positive\n"
     ]
    }
   ],
   "source": [
    "number = int(input(\"Enter any number : \"))\n",
    "number1= number\t\n",
    "# if the number is positive\n",
    "if number > 0:\n",
    "    print(\"Number is Positive\")\n",
    "        \n",
    "# if the number is negative\n",
    "else:\n",
    "    print(\"Number is Negative\")"
   ]
  },
  {
   "cell_type": "code",
   "execution_count": 9,
   "id": "2f1881a1",
   "metadata": {},
   "outputs": [
    {
     "name": "stdout",
     "output_type": "stream",
     "text": [
      " Please Enter any Positive Integer : 22\n",
      "Given Number is Not Divisible by 5 \n"
     ]
    }
   ],
   "source": [
    "# Python Program to Check Number is Divisible by 5 \n",
    "\n",
    "number = int(input(\" Please Enter any Positive Integer : \"))\n",
    "\n",
    "if((number % 5 == 0)):\n",
    "    print(\"Given Number is Divisible by 5\")\n",
    "else:\n",
    "    print(\"Given Number is Not Divisible by 5 \")"
   ]
  },
  {
   "cell_type": "code",
   "execution_count": null,
   "id": "30179d5d",
   "metadata": {},
   "outputs": [],
   "source": []
  }
 ],
 "metadata": {
  "kernelspec": {
   "display_name": "Python 3 (ipykernel)",
   "language": "python",
   "name": "python3"
  },
  "language_info": {
   "codemirror_mode": {
    "name": "ipython",
    "version": 3
   },
   "file_extension": ".py",
   "mimetype": "text/x-python",
   "name": "python",
   "nbconvert_exporter": "python",
   "pygments_lexer": "ipython3",
   "version": "3.9.13"
  }
 },
 "nbformat": 4,
 "nbformat_minor": 5
}
