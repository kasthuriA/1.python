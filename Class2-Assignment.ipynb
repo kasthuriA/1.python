{
 "cells": [
  {
   "cell_type": "code",
   "execution_count": 8,
   "id": "69a3b5f3",
   "metadata": {},
   "outputs": [],
   "source": [
    "#from filename import classname\n",
    "from faircopy import MultipleFunctions"
   ]
  },
  {
   "cell_type": "code",
   "execution_count": 11,
   "id": "ff96b669",
   "metadata": {},
   "outputs": [
    {
     "name": "stdout",
     "output_type": "stream",
     "text": [
      "Sub-fields in AI are:\n",
      "Machine Learning\n",
      "Neural Networks\n",
      "Vision\n",
      "Robotics\n",
      "Speech Processing\n",
      "Natural Language Processing\n"
     ]
    }
   ],
   "source": [
    "MultipleFunctions.subfields()"
   ]
  },
  {
   "cell_type": "code",
   "execution_count": 14,
   "id": "10ed59cb",
   "metadata": {},
   "outputs": [
    {
     "name": "stdout",
     "output_type": "stream",
     "text": [
      "Enter the number:52452\n",
      "52452 is an Even number\n"
     ]
    }
   ],
   "source": [
    "#classname.functionname\n",
    "MultipleFunctions.oddEven()"
   ]
  },
  {
   "cell_type": "code",
   "execution_count": 13,
   "id": "d78e97a5",
   "metadata": {},
   "outputs": [
    {
     "name": "stdout",
     "output_type": "stream",
     "text": [
      "Subject 1= 98\n",
      "Subject 2= 87\n",
      "Subject 3= 95\n",
      "Subject 4= 95\n",
      "Subject 5= 93\n",
      "Total: 468.0\n",
      "Percentage: 93.60%\n"
     ]
    }
   ],
   "source": [
    "MultipleFunctions.percentage()"
   ]
  },
  {
   "cell_type": "code",
   "execution_count": 15,
   "id": "9e453d88",
   "metadata": {},
   "outputs": [
    {
     "name": "stdout",
     "output_type": "stream",
     "text": [
      "Height= 32\n",
      "Breadth= 34\n",
      "AreaFormula=(Height*Breadth)/2\n",
      "Area of Triangle :  544.0\n",
      "Height= 2\n",
      "Height2= 4\n",
      "Breadth= 4\n",
      "PerimeterFormula=Height1+Height2+Breadth\n",
      "Perimeter of Triangle :  10\n"
     ]
    }
   ],
   "source": [
    "MultipleFunctions.triangle()"
   ]
  },
  {
   "cell_type": "code",
   "execution_count": null,
   "id": "5d3eb6d1",
   "metadata": {},
   "outputs": [],
   "source": []
  }
 ],
 "metadata": {
  "kernelspec": {
   "display_name": "Python 3 (ipykernel)",
   "language": "python",
   "name": "python3"
  },
  "language_info": {
   "codemirror_mode": {
    "name": "ipython",
    "version": 3
   },
   "file_extension": ".py",
   "mimetype": "text/x-python",
   "name": "python",
   "nbconvert_exporter": "python",
   "pygments_lexer": "ipython3",
   "version": "3.9.13"
  }
 },
 "nbformat": 4,
 "nbformat_minor": 5
}
